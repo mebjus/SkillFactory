{
 "cells": [
  {
   "cell_type": "code",
   "execution_count": 1,
   "id": "414b4910-7791-4f3d-8223-cac601b5feae",
   "metadata": {},
   "outputs": [],
   "source": [
    "import pandas as pd\n",
    "from scipy.stats import shapiro\n",
    "from scipy.stats import ttest_ind"
   ]
  },
  {
   "cell_type": "code",
   "execution_count": 2,
   "id": "34b3f6b5-a62e-4472-b30f-402cf858f250",
   "metadata": {},
   "outputs": [],
   "source": [
    "petersburg = [0.0974, 0.1352, 0.0817, 0.1016, 0.0968, 0.1064, 0.105]\n",
    "magadan = [0.1033, 0.0915, 0.0781, 0.0685, 0.0677, 0.0697, 0.0764,\n",
    "           0.0689]"
   ]
  },
  {
   "cell_type": "markdown",
   "id": "0fc4f0db-8e8d-44de-9968-401d0260fbfc",
   "metadata": {},
   "source": [
    "Объединим два массива в DataFrame, предварительно преобразовав в Series"
   ]
  },
  {
   "cell_type": "code",
   "execution_count": 3,
   "id": "fec4bffd-af90-41f3-8b12-07bcbfe5e71a",
   "metadata": {},
   "outputs": [
    {
     "data": {
      "text/html": [
       "<div>\n",
       "<style scoped>\n",
       "    .dataframe tbody tr th:only-of-type {\n",
       "        vertical-align: middle;\n",
       "    }\n",
       "\n",
       "    .dataframe tbody tr th {\n",
       "        vertical-align: top;\n",
       "    }\n",
       "\n",
       "    .dataframe thead th {\n",
       "        text-align: right;\n",
       "    }\n",
       "</style>\n",
       "<table border=\"1\" class=\"dataframe\">\n",
       "  <thead>\n",
       "    <tr style=\"text-align: right;\">\n",
       "      <th></th>\n",
       "      <th>petersburg</th>\n",
       "      <th>magadan</th>\n",
       "    </tr>\n",
       "  </thead>\n",
       "  <tbody>\n",
       "    <tr>\n",
       "      <th>0</th>\n",
       "      <td>0.0974</td>\n",
       "      <td>0.1033</td>\n",
       "    </tr>\n",
       "    <tr>\n",
       "      <th>1</th>\n",
       "      <td>0.1352</td>\n",
       "      <td>0.0915</td>\n",
       "    </tr>\n",
       "    <tr>\n",
       "      <th>2</th>\n",
       "      <td>0.0817</td>\n",
       "      <td>0.0781</td>\n",
       "    </tr>\n",
       "    <tr>\n",
       "      <th>3</th>\n",
       "      <td>0.1016</td>\n",
       "      <td>0.0685</td>\n",
       "    </tr>\n",
       "    <tr>\n",
       "      <th>4</th>\n",
       "      <td>0.0968</td>\n",
       "      <td>0.0677</td>\n",
       "    </tr>\n",
       "    <tr>\n",
       "      <th>5</th>\n",
       "      <td>0.1064</td>\n",
       "      <td>0.0697</td>\n",
       "    </tr>\n",
       "    <tr>\n",
       "      <th>6</th>\n",
       "      <td>0.1050</td>\n",
       "      <td>0.0764</td>\n",
       "    </tr>\n",
       "    <tr>\n",
       "      <th>7</th>\n",
       "      <td>NaN</td>\n",
       "      <td>0.0689</td>\n",
       "    </tr>\n",
       "  </tbody>\n",
       "</table>\n",
       "</div>"
      ],
      "text/plain": [
       "   petersburg  magadan\n",
       "0      0.0974   0.1033\n",
       "1      0.1352   0.0915\n",
       "2      0.0817   0.0781\n",
       "3      0.1016   0.0685\n",
       "4      0.0968   0.0677\n",
       "5      0.1064   0.0697\n",
       "6      0.1050   0.0764\n",
       "7         NaN   0.0689"
      ]
     },
     "execution_count": 3,
     "metadata": {},
     "output_type": "execute_result"
    }
   ],
   "source": [
    "df = pd.concat([pd.Series(petersburg), pd.Series(magadan)], axis=1)\n",
    "df.rename(columns={0: 'petersburg', 1: 'magadan'}, inplace=True)\n",
    "df"
   ]
  },
  {
   "cell_type": "markdown",
   "id": "3f227c14-e373-4c17-9d9e-f6245b3e897c",
   "metadata": {},
   "source": [
    "заполним NaN медианой по стобцу:"
   ]
  },
  {
   "cell_type": "code",
   "execution_count": 4,
   "id": "538a5c04-e75d-42f3-9850-cb88d674d910",
   "metadata": {},
   "outputs": [
    {
     "data": {
      "text/html": [
       "<div>\n",
       "<style scoped>\n",
       "    .dataframe tbody tr th:only-of-type {\n",
       "        vertical-align: middle;\n",
       "    }\n",
       "\n",
       "    .dataframe tbody tr th {\n",
       "        vertical-align: top;\n",
       "    }\n",
       "\n",
       "    .dataframe thead th {\n",
       "        text-align: right;\n",
       "    }\n",
       "</style>\n",
       "<table border=\"1\" class=\"dataframe\">\n",
       "  <thead>\n",
       "    <tr style=\"text-align: right;\">\n",
       "      <th></th>\n",
       "      <th>petersburg</th>\n",
       "      <th>magadan</th>\n",
       "    </tr>\n",
       "  </thead>\n",
       "  <tbody>\n",
       "    <tr>\n",
       "      <th>0</th>\n",
       "      <td>0.0974</td>\n",
       "      <td>0.1033</td>\n",
       "    </tr>\n",
       "    <tr>\n",
       "      <th>1</th>\n",
       "      <td>0.1352</td>\n",
       "      <td>0.0915</td>\n",
       "    </tr>\n",
       "    <tr>\n",
       "      <th>2</th>\n",
       "      <td>0.0817</td>\n",
       "      <td>0.0781</td>\n",
       "    </tr>\n",
       "    <tr>\n",
       "      <th>3</th>\n",
       "      <td>0.1016</td>\n",
       "      <td>0.0685</td>\n",
       "    </tr>\n",
       "    <tr>\n",
       "      <th>4</th>\n",
       "      <td>0.0968</td>\n",
       "      <td>0.0677</td>\n",
       "    </tr>\n",
       "    <tr>\n",
       "      <th>5</th>\n",
       "      <td>0.1064</td>\n",
       "      <td>0.0697</td>\n",
       "    </tr>\n",
       "    <tr>\n",
       "      <th>6</th>\n",
       "      <td>0.1050</td>\n",
       "      <td>0.0764</td>\n",
       "    </tr>\n",
       "    <tr>\n",
       "      <th>7</th>\n",
       "      <td>0.1016</td>\n",
       "      <td>0.0689</td>\n",
       "    </tr>\n",
       "  </tbody>\n",
       "</table>\n",
       "</div>"
      ],
      "text/plain": [
       "   petersburg  magadan\n",
       "0      0.0974   0.1033\n",
       "1      0.1352   0.0915\n",
       "2      0.0817   0.0781\n",
       "3      0.1016   0.0685\n",
       "4      0.0968   0.0677\n",
       "5      0.1064   0.0697\n",
       "6      0.1050   0.0764\n",
       "7      0.1016   0.0689"
      ]
     },
     "execution_count": 4,
     "metadata": {},
     "output_type": "execute_result"
    }
   ],
   "source": [
    "df['petersburg'][7] = round(df['petersburg'].median(), 4)\n",
    "df"
   ]
  },
  {
   "cell_type": "markdown",
   "id": "86db300e-4e67-416a-a106-baf8490cc8c0",
   "metadata": {},
   "source": [
    "Посчитаем разницу в среднем размере мидии в зависимости от города-производителя"
   ]
  },
  {
   "cell_type": "code",
   "execution_count": 5,
   "id": "8fee9cda-2d18-4ba4-a3b9-abdaebce0b96",
   "metadata": {},
   "outputs": [
    {
     "data": {
      "text/plain": [
       "0.0252"
      ]
     },
     "execution_count": 5,
     "metadata": {},
     "output_type": "execute_result"
    }
   ],
   "source": [
    "round(df['petersburg'].mean()-df['magadan'].mean(), 4)"
   ]
  },
  {
   "cell_type": "markdown",
   "id": "b66fcba4-36f0-4c4a-b3a2-cb3f4b06fc83",
   "metadata": {},
   "source": [
    "уровень степени значимости возьмем в 0.05 (стандартный уровень нам подходит)"
   ]
  },
  {
   "cell_type": "markdown",
   "id": "65e90d79-1808-46e0-ad16-c324a0a1f0ad",
   "metadata": {},
   "source": [
    "проверяем на нормальность распределения"
   ]
  },
  {
   "cell_type": "code",
   "execution_count": 6,
   "id": "70dcd25f-f116-428b-a1d4-6126fdec6b52",
   "metadata": {},
   "outputs": [],
   "source": [
    "H0 = 'Данные распределены нормально'\n",
    "Ha = 'Данные не распределены нормально (мы отвергаем H0)'"
   ]
  },
  {
   "cell_type": "code",
   "execution_count": 7,
   "id": "7468ed84-bcf4-46c4-8c49-590032cffe17",
   "metadata": {},
   "outputs": [
    {
     "data": {
      "text/plain": [
       "0.1014"
      ]
     },
     "execution_count": 7,
     "metadata": {},
     "output_type": "execute_result"
    }
   ],
   "source": [
    "alpha = 0.05\n",
    "_, p = shapiro(df)\n",
    "\n",
    "round(p,4)"
   ]
  },
  {
   "cell_type": "code",
   "execution_count": 8,
   "id": "0981e12d-0364-4fd4-adc3-c45beb0fe5ad",
   "metadata": {},
   "outputs": [
    {
     "data": {
      "text/plain": [
       "'Данные распределены нормально'"
      ]
     },
     "metadata": {},
     "output_type": "display_data"
    }
   ],
   "source": [
    "if p > alpha: display(H0)\n",
    "else: display(Ha)"
   ]
  },
  {
   "cell_type": "code",
   "execution_count": 9,
   "id": "e36841d4-b419-4398-9195-a5f226476636",
   "metadata": {},
   "outputs": [
    {
     "data": {
      "text/html": [
       "<div>\n",
       "<style scoped>\n",
       "    .dataframe tbody tr th:only-of-type {\n",
       "        vertical-align: middle;\n",
       "    }\n",
       "\n",
       "    .dataframe tbody tr th {\n",
       "        vertical-align: top;\n",
       "    }\n",
       "\n",
       "    .dataframe thead th {\n",
       "        text-align: right;\n",
       "    }\n",
       "</style>\n",
       "<table border=\"1\" class=\"dataframe\">\n",
       "  <thead>\n",
       "    <tr style=\"text-align: right;\">\n",
       "      <th></th>\n",
       "      <th>petersburg</th>\n",
       "      <th>magadan</th>\n",
       "    </tr>\n",
       "  </thead>\n",
       "  <tbody>\n",
       "    <tr>\n",
       "      <th>petersburg</th>\n",
       "      <td>1.000000</td>\n",
       "      <td>0.256665</td>\n",
       "    </tr>\n",
       "    <tr>\n",
       "      <th>magadan</th>\n",
       "      <td>0.256665</td>\n",
       "      <td>1.000000</td>\n",
       "    </tr>\n",
       "  </tbody>\n",
       "</table>\n",
       "</div>"
      ],
      "text/plain": [
       "            petersburg   magadan\n",
       "petersburg    1.000000  0.256665\n",
       "magadan       0.256665  1.000000"
      ]
     },
     "metadata": {},
     "output_type": "display_data"
    }
   ],
   "source": [
    "display(df.corr())"
   ]
  },
  {
   "cell_type": "markdown",
   "id": "95dfb16f-9f28-44f0-a9ae-54dcbeeefba3",
   "metadata": {},
   "source": [
    "Выбор теста на корреляция выпал на метод Пирсона - тк распределение нормальное, без выбросовочень, корреляция слабая или даже отсутствует"
   ]
  },
  {
   "cell_type": "markdown",
   "id": "4556617a-e775-48cf-adfd-da09ea077a54",
   "metadata": {},
   "source": [
    "Для проверки значимости разницы в рамерах - используем Независимый T-тест, причина выбора: распределение нормальное, зависимая переменнная количественная, сравниваются ровно 2 группы и элементов в выборке меньше 30 "
   ]
  },
  {
   "cell_type": "code",
   "execution_count": 10,
   "id": "2e4cfb3f-54f9-4a5f-a12f-8c6a26000013",
   "metadata": {},
   "outputs": [],
   "source": [
    "H0 = 'Нет значимой разницы между средним размером раковины мидий в двух разных местах.'\n",
    "Ha = 'Есть значимая разница между средним размером раковины мидий в двух разных местах.'"
   ]
  },
  {
   "cell_type": "code",
   "execution_count": 11,
   "id": "cca15dac-4718-4c4e-bfb5-c1168aaba108",
   "metadata": {},
   "outputs": [
    {
     "name": "stdout",
     "output_type": "stream",
     "text": [
      "\n",
      "*** Результаты независимого T-теста ***\n",
      "0.003 <= 0.05. \n",
      " Мы отвергаем нулевую гипотезу. Есть значимая разница между средним размером раковины мидий в двух разных местах.\n"
     ]
    }
   ],
   "source": [
    "def t_test(df):\n",
    "    print('\\n' + \"*** Результаты независимого T-теста ***\")\n",
    "    test_results = ttest_ind(df['petersburg'], df['magadan'], equal_var=True)\n",
    "    p = round(test_results[1],3)\n",
    "\n",
    "    if p>alpha:\n",
    "        print(f\"{p} > {alpha}. \\n Мы не можем отвергнуть нулевую гипотезу. \\n {H0}\")\n",
    "    else:\n",
    "        print(f\"{p} <= {alpha}. \\n Мы отвергаем нулевую гипотезу. {Ha}\")\n",
    "\n",
    "t_test(df)"
   ]
  }
 ],
 "metadata": {
  "kernelspec": {
   "display_name": "Python 3",
   "language": "python",
   "name": "python3"
  },
  "language_info": {
   "codemirror_mode": {
    "name": "ipython",
    "version": 3
   },
   "file_extension": ".py",
   "mimetype": "text/x-python",
   "name": "python",
   "nbconvert_exporter": "python",
   "pygments_lexer": "ipython3",
   "version": "3.8.8"
  }
 },
 "nbformat": 4,
 "nbformat_minor": 5
}
